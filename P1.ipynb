{
 "cells": [
  {
   "cell_type": "markdown",
   "metadata": {},
   "source": [
    "# Self-Driving Car Engineer Nanodegree\n",
    "\n",
    "\n",
    "## Project: **Finding Lane Lines on the Road** \n",
    "***\n",
    "In this project, you will use the tools you learned about in the lesson to identify lane lines on the road.  You can develop your pipeline on a series of individual images, and later apply the result to a video stream (really just a series of images). Check out the video clip \"raw-lines-example.mp4\" (also contained in this repository) to see what the output should look like after using the helper functions below. \n",
    "\n",
    "Once you have a result that looks roughly like \"raw-lines-example.mp4\", you'll need to get creative and try to average and/or extrapolate the line segments you've detected to map out the full extent of the lane lines.  You can see an example of the result you're going for in the video \"P1_example.mp4\".  Ultimately, you would like to draw just one line for the left side of the lane, and one for the right.\n",
    "\n",
    "In addition to implementing code, there is a brief writeup to complete. The writeup should be completed in a separate file, which can be either a markdown file or a pdf document. There is a [write up template](https://github.com/udacity/CarND-LaneLines-P1/blob/master/writeup_template.md) that can be used to guide the writing process. Completing both the code in the Ipython notebook and the writeup template will cover all of the [rubric points](https://review.udacity.com/#!/rubrics/322/view) for this project.\n",
    "\n",
    "---\n",
    "Let's have a look at our first image called 'test_images/solidWhiteRight.jpg'.  Run the 2 cells below (hit Shift-Enter or the \"play\" button above) to display the image.\n",
    "\n",
    "**Note: If, at any point, you encounter frozen display windows or other confounding issues, you can always start again with a clean slate by going to the \"Kernel\" menu above and selecting \"Restart & Clear Output\".**\n",
    "\n",
    "---"
   ]
  },
  {
   "cell_type": "markdown",
   "metadata": {},
   "source": [
    "**The tools you have are color selection, region of interest selection, grayscaling, Gaussian smoothing, Canny Edge Detection and Hough Tranform line detection.  You  are also free to explore and try other techniques that were not presented in the lesson.  Your goal is piece together a pipeline to detect the line segments in the image, then average/extrapolate them and draw them onto the image for display (as below).  Once you have a working pipeline, try it out on the video stream below.**\n",
    "\n",
    "---\n",
    "\n",
    "<figure>\n",
    " <img src=\"examples/line-segments-example.jpg\" width=\"380\" alt=\"Combined Image\" />\n",
    " <figcaption>\n",
    " <p></p> \n",
    " <p style=\"text-align: center;\"> Your output should look something like this (above) after detecting line segments using the helper functions below </p> \n",
    " </figcaption>\n",
    "</figure>\n",
    " <p></p> \n",
    "<figure>\n",
    " <img src=\"examples/laneLines_thirdPass.jpg\" width=\"380\" alt=\"Combined Image\" />\n",
    " <figcaption>\n",
    " <p></p> \n",
    " <p style=\"text-align: center;\"> Your goal is to connect/average/extrapolate line segments to get output like this</p> \n",
    " </figcaption>\n",
    "</figure>"
   ]
  },
  {
   "cell_type": "markdown",
   "metadata": {},
   "source": [
    "**Run the cell below to import some packages.  If you get an `import error` for a package you've already installed, try changing your kernel (select the Kernel menu above --> Change Kernel).  Still have problems?  Try relaunching Jupyter Notebook from the terminal prompt.  Also, see [this forum post](https://carnd-forums.udacity.com/cq/viewquestion.action?spaceKey=CAR&id=29496372&questionTitle=finding-lanes---import-cv2-fails-even-though-python-in-the-terminal-window-has-no-problem-with-import-cv2) for more troubleshooting tips.**  "
   ]
  },
  {
   "cell_type": "markdown",
   "metadata": {},
   "source": [
    "## Import Packages"
   ]
  },
  {
   "cell_type": "code",
   "execution_count": 1,
   "metadata": {},
   "outputs": [
    {
     "name": "stdout",
     "output_type": "stream",
     "text": [
      "/Users/andrei/anaconda3/envs/penis/bin/python\n"
     ]
    }
   ],
   "source": [
    "import sys, os\n",
    "\n",
    "# Make sure we're using the right kernel!\n",
    "print(sys.executable)"
   ]
  },
  {
   "cell_type": "code",
   "execution_count": 2,
   "metadata": {},
   "outputs": [],
   "source": [
    "#importing some useful packages\n",
    "import matplotlib.pyplot as plt\n",
    "import matplotlib.image as mpimg\n",
    "import numpy as np\n",
    "import cv2\n",
    "\n",
    "%matplotlib inline"
   ]
  },
  {
   "cell_type": "markdown",
   "metadata": {},
   "source": [
    "## Read in an Image"
   ]
  },
  {
   "cell_type": "code",
   "execution_count": null,
   "metadata": {},
   "outputs": [],
   "source": [
    "#reading in an image\n",
    "image = mpimg.imread('test_images/solidWhiteRight.jpg')\n",
    "\n",
    "#printing out some stats and plotting\n",
    "print('This image is:', type(image), 'with dimensions:', image.shape)\n",
    "plt.imshow(image)  # if you wanted to show a single color channel image called 'gray', for example, call as plt.imshow(gray, cmap='gray')"
   ]
  },
  {
   "cell_type": "markdown",
   "metadata": {},
   "source": [
    "## Ideas for Lane Detection Pipeline"
   ]
  },
  {
   "cell_type": "markdown",
   "metadata": {},
   "source": [
    "**Some OpenCV functions (beyond those introduced in the lesson) that might be useful for this project are:**\n",
    "\n",
    "`cv2.inRange()` for color selection  \n",
    "`cv2.fillPoly()` for regions selection  \n",
    "`cv2.line()` to draw lines on an image given endpoints  \n",
    "`cv2.addWeighted()` to coadd / overlay two images\n",
    "`cv2.cvtColor()` to grayscale or change color\n",
    "`cv2.imwrite()` to output images to file  \n",
    "`cv2.bitwise_and()` to apply a mask to an image\n",
    "\n",
    "**Check out the OpenCV documentation to learn about these and discover even more awesome functionality!**"
   ]
  },
  {
   "cell_type": "markdown",
   "metadata": {},
   "source": [
    "## Helper Functions"
   ]
  },
  {
   "cell_type": "markdown",
   "metadata": {},
   "source": [
    "Below are some helper functions to help get you started. They should look familiar from the lesson!"
   ]
  },
  {
   "cell_type": "code",
   "execution_count": null,
   "metadata": {
    "collapsed": true
   },
   "outputs": [],
   "source": [
    "import math\n",
    "\n",
    "def grayscale(img):\n",
    "    \"\"\"Applies the Grayscale transform\n",
    "    This will return an image with only one color channel\n",
    "    but NOTE: to see the returned image as grayscale\n",
    "    (assuming your grayscaled image is called 'gray')\n",
    "    you should call plt.imshow(gray, cmap='gray')\"\"\"\n",
    "    return cv2.cvtColor(img, cv2.COLOR_RGB2GRAY)\n",
    "    # Or use BGR2GRAY if you read an image with cv2.imread()\n",
    "    # return cv2.cvtColor(img, cv2.COLOR_BGR2GRAY)\n",
    "    \n",
    "def canny(img, low_threshold, high_threshold):\n",
    "    \"\"\"Applies the Canny transform\"\"\"\n",
    "    return cv2.Canny(img, low_threshold, high_threshold)\n",
    "\n",
    "def gaussian_blur(img, kernel_size):\n",
    "    \"\"\"Applies a Gaussian Noise kernel\"\"\"\n",
    "    return cv2.GaussianBlur(img, (kernel_size, kernel_size), 0)\n",
    "\n",
    "def region_of_interest(img, vertices):\n",
    "    \"\"\"\n",
    "    Applies an image mask.\n",
    "    \n",
    "    Only keeps the region of the image defined by the polygon\n",
    "    formed from `vertices`. The rest of the image is set to black.\n",
    "    \"\"\"\n",
    "    #defining a blank mask to start with\n",
    "    mask = np.zeros_like(img)   \n",
    "    \n",
    "    #defining a 3 channel or 1 channel color to fill the mask with depending on the input image\n",
    "    if len(img.shape) > 2:\n",
    "        channel_count = img.shape[2]  # i.e. 3 or 4 depending on your image\n",
    "        ignore_mask_color = (255,) * channel_count\n",
    "    else:\n",
    "        ignore_mask_color = 255\n",
    "        \n",
    "    #filling pixels inside the polygon defined by \"vertices\" with the fill color    \n",
    "    cv2.fillPoly(mask, vertices, ignore_mask_color)\n",
    "    \n",
    "    #returning the image only where mask pixels are nonzero\n",
    "    masked_image = cv2.bitwise_and(img, mask)\n",
    "    return masked_image\n",
    "\n",
    "\n",
    "def draw_raw_lines(img, lines, color=[255, 0, 0], thickness=2):\n",
    "    \"\"\"Draws a set of lines on the given image.\"\"\"\n",
    "    for line in lines:\n",
    "        for x1,y1,x2,y2 in line:\n",
    "            cv2.line(img, (x1, y1), (x2, y2), color, thickness)\n",
    "\n",
    "\n",
    "def hough_lines(img, rho, theta, threshold, min_line_len, max_line_gap):\n",
    "    \"\"\"\n",
    "    `img` should be the output of a Canny transform.\n",
    "        \n",
    "    Returns an image with hough lines drawn and the detected line list.\n",
    "    \"\"\"\n",
    "    lines = cv2.HoughLinesP(img, rho, theta, threshold, np.array([]), minLineLength=min_line_len, maxLineGap=max_line_gap)\n",
    "    line_img = np.zeros((img.shape[0], img.shape[1], 3), dtype=np.uint8)\n",
    "    draw_raw_lines(line_img, lines)\n",
    "    return line_img, lines\n",
    "\n",
    "# Python 3 has support for cool math symbols.\n",
    "\n",
    "def weighted_img(img, initial_img, α=0.8, β=1., λ=0.):\n",
    "    \"\"\"\n",
    "    `img` is the output of the hough_lines(), An image with lines drawn on it.\n",
    "    Should be a blank image (all black) with lines drawn on it.\n",
    "    \n",
    "    `initial_img` should be the image before any processing.\n",
    "    \n",
    "    The result image is computed as follows:\n",
    "    \n",
    "    initial_img * α + img * β + λ\n",
    "    NOTE: initial_img and img must be the same shape!\n",
    "    \"\"\"\n",
    "    return cv2.addWeighted(initial_img, α, img, β, λ)"
   ]
  },
  {
   "cell_type": "markdown",
   "metadata": {},
   "source": [
    "## Test Images\n",
    "\n",
    "Build your pipeline to work on the images in the directory \"test_images\"  \n",
    "**You should make sure your pipeline works well on these images before you try the videos.**"
   ]
  },
  {
   "cell_type": "code",
   "execution_count": null,
   "metadata": {},
   "outputs": [],
   "source": [
    "import os\n",
    "os.listdir(\"test_images/\")"
   ]
  },
  {
   "cell_type": "markdown",
   "metadata": {},
   "source": [
    "## Build a Lane Finding Pipeline\n",
    "\n"
   ]
  },
  {
   "cell_type": "markdown",
   "metadata": {},
   "source": [
    "Build the pipeline and run your solution on all test_images. Make copies into the `test_images_output` directory, and you can use the images in your writeup report.\n",
    "\n",
    "Try tuning the various parameters, especially the low and high Canny thresholds as well as the Hough lines parameters."
   ]
  },
  {
   "cell_type": "code",
   "execution_count": null,
   "metadata": {},
   "outputs": [],
   "source": [
    "from ipywidgets import *\n",
    "from sklearn.linear_model import RANSACRegressor, LinearRegression\n",
    "\n",
    "sample_img = cv2.imread('test_images/solidWhiteRight.jpg')\n",
    "plt.imshow(sample_img)"
   ]
  },
  {
   "cell_type": "markdown",
   "metadata": {},
   "source": [
    "### Vanilla numpy regression"
   ]
  },
  {
   "cell_type": "code",
   "execution_count": null,
   "metadata": {},
   "outputs": [],
   "source": [
    "x = np.reshape(np.linspace(0, 10), (1, -1))\n",
    "y = np.reshape(12 + 3 * x + np.random.randn(50) * 2.5, (1, -1))\n",
    "\n",
    "xx = np.vstack((x, np.ones_like(x))).T\n",
    "print(xx.shape)\n",
    "\n",
    "# print(xx)\n",
    "\n",
    "res = np.linalg.lstsq(xx, y.T)\n",
    "slope = res[0][0]\n",
    "bias = res[0][1]\n",
    "\n",
    "plt.scatter(x, y)\n",
    "plt.plot([np.min(x), np.max(x)], [np.min(x) * slope + bias, np.max(x) * slope + bias])"
   ]
  },
  {
   "cell_type": "markdown",
   "metadata": {},
   "source": [
    "### RANSAC vs. Linear Regression in the face of structured noise"
   ]
  },
  {
   "cell_type": "code",
   "execution_count": null,
   "metadata": {},
   "outputs": [],
   "source": [
    "# RANSAC robust regression powered by scikit-learn\n",
    "\n",
    "x = np.reshape(np.linspace(0, 10), (1, -1))\n",
    "y = np.reshape(12 + 3 * x + np.random.randn(50) * 1.5, (1, -1))\n",
    "\n",
    "# Add some spurious measurements, i.e., structured noise\n",
    "# which is NOT vanilla gaussian noise, in order to throw off\n",
    "# a non-robust estimator such as linear regression.\n",
    "blob = np.random.randn(2, 25) * 2.5 + [[7], [20]]\n",
    "bx = np.reshape(blob[0, :], (1, -1))\n",
    "by = np.reshape(blob[1, :], (1, -1))\n",
    "x = np.hstack((x, bx)).T\n",
    "y = np.ravel(np.hstack((y, by)))\n",
    "\n",
    "plt.scatter(x.T, y.T)\n",
    "\n",
    "lr = LinearRegression()\n",
    "lr.fit(x, y)\n",
    "\n",
    "ps = np.reshape(np.linspace(0, 12), (-1, 1))\n",
    "plt.plot(ps, lr.predict(ps), label=\"Regression fit\")\n",
    "\n",
    "ransac = RANSACRegressor()\n",
    "ransac.fit(x, y)\n",
    "\n",
    "imask = ransac.inlier_mask_\n",
    "x_in = x[imask, :]\n",
    "y_in = y[imask]\n",
    "inlier_reg = LinearRegression().fit(x_in, y_in)\n",
    "print(inlier_reg.coef_[0], inlier_reg.intercept_)\n",
    "\n",
    "\n",
    "plt.plot(ps, ransac.predict(ps), label=\"RANSAC fit\")\n",
    "\n",
    "plt.legend()\n"
   ]
  },
  {
   "cell_type": "code",
   "execution_count": null,
   "metadata": {},
   "outputs": [],
   "source": [
    "def fit_line(lines):\n",
    "    \"\"\"Converts a set of raw lines to a single estimate.\n",
    "    \n",
    "    Used to extract a single line equation from all the little \n",
    "    lines corresponding to a single lane line.\n",
    "    \n",
    "    The individual points are used in a RANSAC line fitting scheme,\n",
    "    weighted by the squared lengths of their segments.\n",
    "    \"\"\"\n",
    "    \n",
    "    # Take all xs and ys in the lines independently, and fit\n",
    "    # mother-line to all of them using RANSAC.\n",
    "    xs = [l[0] for l in lines] + [l[2] for l in lines]\n",
    "    ys = [l[1] for l in lines] + [l[3] for l in lines]\n",
    "    xs = np.reshape(xs, (-1, 1))\n",
    "    ys = np.array(ys)\n",
    "    \n",
    "    # We give more weight to points belonging to longer lines!\n",
    "    line_len_sq = lambda l: (l[0]-l[2])*(l[0]-l[2]) + (l[1]-l[3])*(l[1]-l[3])\n",
    "    lengths = np.array([line_len_sq(l) for l in lines])\n",
    "    max_len = max(lengths)\n",
    "    lengths = np.reshape(lengths / max_len, (-1, 1))\n",
    "    weights = np.zeros((xs.shape[0], 1))\n",
    "    weights[0::2] = lengths\n",
    "    weights[1::2] = lengths\n",
    "    weights = np.ravel(weights)\n",
    "    \n",
    "    ransac = RANSACRegressor().fit(xs, ys, weights)\n",
    "    \n",
    "    # A quirk in scikit-learn, but we have to refit a linear\n",
    "    # regression on the detected inliers to get the actual\n",
    "    # coefficients.\n",
    "    in_mask = ransac.inlier_mask_\n",
    "    xs_in = xs[in_mask, :]\n",
    "    ys_in = ys[in_mask]\n",
    "    inlier_fit = LinearRegression().fit(xs_in, ys_in)\n",
    "    slope = inlier_fit.coef_[0]\n",
    "    intercept = inlier_fit.intercept_\n",
    "    \n",
    "    return slope, intercept\n",
    "    \n",
    "\n",
    "def draw_lines(lane_detector, img, lines, color=[255, 0, 0], thickness=2):\n",
    "    \"\"\"Detects and draws the left and right lane markers.\n",
    "    \n",
    "    Uses the slope of the individual segments to partition them into\n",
    "    left and right bins, discarding outliers with slopes too far from\n",
    "    the expected ones.\n",
    "    \n",
    "    The function then uses RANSAC to robustly fit a line to the left\n",
    "    and right segment clouds, respectively.\n",
    "    \n",
    "    If available, a history of past lane marker parameters is used\n",
    "    to smooth the current measurement, making it more robust to\n",
    "    momentary jitter.\n",
    "    \n",
    "    Returns:\n",
    "        A copy of the input `img` with the lane markers rendered on it.\n",
    "    \"\"\"\n",
    "    left_side = []\n",
    "    right_side = []\n",
    "    h = img.shape[0]\n",
    "    w = img.shape[1]\n",
    "    \n",
    "    # \"Canonical\" angles determined empirically.\n",
    "    right_lane_base = math.radians(+30)\n",
    "    left_lane_base = math.radians(-35)\n",
    "    \n",
    "    # These variables control how much slack we allow on the slopes of raw\n",
    "    # lines in order to consider them either left or right marker components.\n",
    "    leeway_below = 0.85\n",
    "    leeway_above = 1.15\n",
    "    \n",
    "    # Can fall back to history only up to 3 times in a row.\n",
    "    MAX_RECOVERIES = 3\n",
    "    \n",
    "    # First, we roughly partition the line segments into left and right bins.\n",
    "    # This is done purely based on their orientation.\n",
    "    for line in lines:\n",
    "        x1 = line[0][0]\n",
    "        y1 = line[0][1]\n",
    "        x2 = line[0][2]\n",
    "        y2 = line[0][3]\n",
    "        slope = math.atan2(y2 - y1, x2 - x1)\n",
    "        \n",
    "        # The traffic image is actually flipped. The (0, 0) origin is \n",
    "        # on the TOP-RIGHT!\n",
    "        if slope > (right_lane_base * leeway_below) and slope < (right_lane_base * leeway_above):\n",
    "            right_side.append((line, slope))\n",
    "        elif slope > (left_lane_base * leeway_above) and slope < (left_lane_base * leeway_below):\n",
    "            left_side.append((line, slope))\n",
    "              \n",
    "#     med_left_slope = np.median([slope for _, slope in left_side])\n",
    "#     med_right_slope = np.median([slope for _, slope in right_side])\n",
    "#     print(\"Median left slope: {}\".format(med_left_slope))\n",
    "#     print(\"Median right slope: {}\".format(med_right_slope))\n",
    "    \n",
    "    # If either side has no associated markers, we try to give our best guess\n",
    "    # using our history. If we see we're on a detection failure streak\n",
    "    # (controlled by the MAX_RECOVERIES constant), we signal a fatal error.\n",
    "    if np.shape(left_side)[0] == 0 or np.shape(right_side)[0] == 0:\n",
    "        if len(lane_detector.marker_history) > 0:\n",
    "            # Will recover from history...\n",
    "            lane_detector.recoveries += 1\n",
    "            if lane_detector.recoveries > MAX_RECOVERIES:\n",
    "                print(\"GENERAL TRACKING FALURE. Apply brakes or something!\")\n",
    "                return np.zeros_like(img)\n",
    "            \n",
    "            print(\"Recovering from history...\")            \n",
    "            left_s, left_i, right_s, right_i = lane_detector.marker_history[-1]\n",
    "        else:\n",
    "            print(\"Warning, no markers found, and no history to fall back on!\")\n",
    "            return np.zeros_like(img)\n",
    "    else:\n",
    "        # We detected some markers successfully.\n",
    "        recoveries = 0\n",
    "        left_side_lines = [line[0] for (line, slope) in left_side]\n",
    "        left_lane_line = fit_line(left_side_lines)\n",
    "        right_side_lines = [line[0] for (line, slope) in right_side]\n",
    "        right_lane_line = fit_line(right_side_lines)\n",
    "\n",
    "        left_s, left_i = left_lane_line\n",
    "        right_s, right_i = right_lane_line\n",
    "    \n",
    "    # Manage keeping track of the lane marker parameter history, for\n",
    "    # increased robustness, and to reduce jitter.\n",
    "    lane_detector.marker_history.append((left_s, left_i, right_s, right_i))\n",
    "    if len(lane_detector.marker_history) > 1:\n",
    "        # Smooth values based on (very) recent history\n",
    "        smooth_hist_size = 5\n",
    "        count = min(smooth_hist_size + 1, len(lane_detector.marker_history))\n",
    "        recent = lane_detector.marker_history[-count:]\n",
    "        \n",
    "        left_s_hist, left_i_hist, right_s_hist, right_i_hist = zip(*recent)\n",
    "        \n",
    "        # TODO-LOW(andrei): More weight to more recent values.\n",
    "        left_s = np.mean(left_s_hist)\n",
    "        left_i = np.mean(left_i_hist)\n",
    "        right_s = np.mean(right_s_hist)\n",
    "        right_i = np.mean(right_i_hist)\n",
    "    \n",
    "    # Render the detected lane limits on a copy of the input frame.\n",
    "    line_buf = np.zeros_like(img)\n",
    "    cv2.line(line_buf,\n",
    "             (0, int(left_i)),\n",
    "             (w//2, int(left_i + w//2 * left_s)),\n",
    "             color, thickness)\n",
    "    cv2.line(line_buf,\n",
    "         (w//2, int(right_i + w//2 * right_s)),\n",
    "         (w, int(right_i + w * right_s)),\n",
    "         color, thickness)\n",
    "    \n",
    "    return weighted_img(line_buf, np.copy(img))\n",
    "       \n",
    "def detect_lane(lane_detector, img, blur_kernel_size,\n",
    "      canny_thresh_low, canny_thresh_high,\n",
    "      hough_threshold, hough_min_line_length, hough_max_line_gap, plot=False):\n",
    "    \"\"\"Detects lane markers in the given frame.\n",
    "    \n",
    "    Separate from `LaneDetector` simply to allow exploration using Jupyter\n",
    "    interactive controls for parameter tweaking.\n",
    "    \n",
    "    Returns:\n",
    "        A copy of the frame with the lanes marked.\n",
    "        \n",
    "    Notes:\n",
    "        The reason this function returns a full drawn-on frame is because\n",
    "        of the nature of the assignment.\n",
    "    \"\"\"\n",
    "    \n",
    "    if canny_thresh_low > canny_thresh_high:\n",
    "        print(\"Invalid edge detection thresholds yo.\")\n",
    "        return\n",
    "    \n",
    "    # Distance resolution of the discretised Hough space.\n",
    "    hough_rho_res = 2\n",
    "    # Angular resolution of the discretised Hough space.\n",
    "    hough_theta_res = np.pi / 180\n",
    "    \n",
    "    h = img.shape[0]\n",
    "    w = img.shape[1]\n",
    "    roi_vertices = [np.array([\n",
    "        [w * 0.10, h], [w * 0.47, h * 0.60], [w * 0.53, h * 0.60], [w * 0.95, h]\n",
    "    ], dtype=np.int32)]\n",
    "    \n",
    "    img_blur = gaussian_blur(img, blur_kernel_size)\n",
    "    edge_img = canny(img_blur, canny_thresh_low, canny_thresh_high)\n",
    "    edge_roi_img = region_of_interest(edge_img, roi_vertices)\n",
    "    line_img, raw_lines = hough_lines(\n",
    "        edge_roi_img, hough_rho_res, hough_theta_res, hough_threshold,\n",
    "        hough_min_line_length, hough_max_line_gap)\n",
    "    \n",
    "    # Fuses the detected raw lines, superimposing them onto the\n",
    "    # video frame.\n",
    "    # TODO(andrei): Separate actual lane detection from rendering.\n",
    "    img_out = draw_lines(lane_detector, img, raw_lines, [0, 0, 255], 10)\n",
    "\n",
    "    # Used for generating the combined debug output.\n",
    "    edge_img_col = cv2.cvtColor(edge_img, cv2.COLOR_GRAY2RGB)\n",
    "    edge_roi_img_col = cv2.cvtColor(edge_roi_img, cv2.COLOR_GRAY2RGB)\n",
    "    \n",
    "    combined = np.vstack((\n",
    "        np.hstack((img_out, edge_img_col)),\n",
    "        np.hstack((edge_roi_img_col, line_img))\n",
    "    ))\n",
    "    \n",
    "    if plot:\n",
    "        plt.figure(figsize=(16, 8))\n",
    "        plt.imshow(combined, cmap=plt.cm.gray)\n",
    "    else:\n",
    "        return combined\n",
    "\n",
    "class LaneDetector(object):\n",
    "        \n",
    "    def __init__(self):\n",
    "        # Keeps track of how many frames in a row we've had to fall back\n",
    "        # to the measurement history due to a lane detection failure in\n",
    "        # the current frame.\n",
    "        self.recoveries = 0\n",
    "        \n",
    "        # Keeps track of a brief history of lane markers to reduce\n",
    "        # noise. Based on the assumption that the lane boundaries\n",
    "        # don't change erratically between frames. This should hold\n",
    "        # even when the car is turning, unless it's in some sort of\n",
    "        # drift competition, in which case all bets are off.\n",
    "        self.marker_history = []\n",
    "        \n",
    "        # Core parameters used by the per-frame lane detection.\n",
    "        self.blur_kernel_size = 11\n",
    "        self.canny_thresh_low = 35\n",
    "        self.canny_thresh_high = 90\n",
    "        self.hough_threshold = 30\n",
    "        self.hough_min_line_length = 25\n",
    "        self.hough_max_line_gap = 30\n",
    "        \n",
    "    def process_frame(self, frame_image):\n",
    "        return detect_lane(\n",
    "            self,\n",
    "            frame_image,\n",
    "            self.blur_kernel_size,\n",
    "            self.canny_thresh_low,\n",
    "            self.canny_thresh_high,\n",
    "            self.hough_threshold,\n",
    "            self.hough_min_line_length,\n",
    "            self.hough_max_line_gap,\n",
    "            plot=False)\n",
    "    \n",
    "# The default values are approximately the best values.\n",
    "interactive(detect_lane,\n",
    "    lane_detector=fixed(LaneDetector()),\n",
    "    img=fixed(sample_img),\n",
    "    blur_kernel_size=IntSlider(min=1, max=49, step=2, value=11, description=\"Gaussian Blur Kernel Size\"),\n",
    "    canny_thresh_low=IntSlider(min=10, max=100, value=35, description=\"Canny low threshold\"),\n",
    "    canny_thresh_high=IntSlider(min=10, max=100, value=90, description=\"Canny high threshold\"),\n",
    "    hough_threshold=IntSlider(min=1, max=50, value=30, description=\"Hough min votes in cell\"),\n",
    "    hough_min_line_length=IntSlider(min=10, max=150, value=25),\n",
    "    hough_max_line_gap=IntSlider(min=1, max=150, value=30),\n",
    "    plot=fixed(True))"
   ]
  },
  {
   "cell_type": "markdown",
   "metadata": {},
   "source": [
    "## Test on Videos\n",
    "\n",
    "You know what's cooler than drawing lanes over images? Drawing lanes over video!\n",
    "\n",
    "We can test our solution on two provided videos:\n",
    "\n",
    "`solidWhiteRight.mp4`\n",
    "\n",
    "`solidYellowLeft.mp4`\n",
    "\n",
    "**Note: if you get an `import error` when you run the next cell, try changing your kernel (select the Kernel menu above --> Change Kernel).  Still have problems?  Try relaunching Jupyter Notebook from the terminal prompt. Also, check out [this forum post](https://carnd-forums.udacity.com/questions/22677062/answers/22677109) for more troubleshooting tips.**\n",
    "\n",
    "**If you get an error that looks like this:**\n",
    "```\n",
    "NeedDownloadError: Need ffmpeg exe. \n",
    "You can download it by calling: \n",
    "imageio.plugins.ffmpeg.download()\n",
    "```\n",
    "**Follow the instructions in the error message and check out [this forum post](https://carnd-forums.udacity.com/display/CAR/questions/26218840/import-videofileclip-error) for more troubleshooting tips across operating systems.**"
   ]
  },
  {
   "cell_type": "code",
   "execution_count": null,
   "metadata": {},
   "outputs": [],
   "source": [
    "# Import everything needed to edit/save/watch video clips\n",
    "from moviepy.editor import VideoFileClip\n",
    "from IPython.display import HTML"
   ]
  },
  {
   "cell_type": "code",
   "execution_count": null,
   "metadata": {},
   "outputs": [],
   "source": [
    "def process_video(video_clip, output_fpath):\n",
    "    lane_detector = LaneDetector()\n",
    "    # NOTE: this function expects color images, and the output will be\n",
    "    # corrupted if grayscale ones are given.\n",
    "    white_clip = clip1.fl_image(lane_detector.process_frame)\n",
    "    %time white_clip.write_videofile(output_fpath, audio=False)"
   ]
  },
  {
   "cell_type": "code",
   "execution_count": null,
   "metadata": {},
   "outputs": [],
   "source": [
    "%mkdir -p test_videos_output"
   ]
  },
  {
   "cell_type": "markdown",
   "metadata": {},
   "source": [
    "Let's try the one with the solid white lane on the right first ..."
   ]
  },
  {
   "cell_type": "code",
   "execution_count": null,
   "metadata": {
    "scrolled": false
   },
   "outputs": [],
   "source": [
    "white_output = 'test_videos_output/solidWhiteRight.mp4'\n",
    "## To speed up the testing process you may want to try your pipeline on a shorter subclip of the video\n",
    "## To do so add .subclip(start_second,end_second) to the end of the line below\n",
    "## Where start_second and end_second are integer values representing the start and end of the subclip\n",
    "## You may also uncomment the following line for a subclip of the first 5 seconds\n",
    "##clip1 = VideoFileClip(\"test_videos/solidWhiteRight.mp4\").subclip(0,5)\n",
    "clip1 = VideoFileClip(\"test_videos/solidWhiteRight.mp4\")\n",
    "\n",
    "process_video(clip1, white_output)"
   ]
  },
  {
   "cell_type": "markdown",
   "metadata": {},
   "source": [
    "Play the video inline, or if you prefer find the video in your filesystem (should be in the same directory) and play it in your video player of choice."
   ]
  },
  {
   "cell_type": "code",
   "execution_count": null,
   "metadata": {},
   "outputs": [],
   "source": [
    "HTML(\"\"\"\n",
    "<video width=\"960\" height=\"540\" controls>\n",
    "  <source src=\"{0}\">\n",
    "</video>\n",
    "\"\"\".format(white_output))"
   ]
  },
  {
   "cell_type": "markdown",
   "metadata": {},
   "source": [
    "## Improve the draw_lines() function\n",
    "\n",
    "**At this point, if you were successful with making the pipeline and tuning parameters, you probably have the Hough line segments drawn onto the road, but what about identifying the full extent of the lane and marking it clearly as in the example video (P1_example.mp4)?  Think about defining a line to run the full length of the visible lane based on the line segments you identified with the Hough Transform. As mentioned previously, try to average and/or extrapolate the line segments you've detected to map out the full extent of the lane lines. You can see an example of the result you're going for in the video \"P1_example.mp4\".**\n",
    "\n",
    "**Go back and modify your draw_lines function accordingly and try re-running your pipeline. The new output should draw a single, solid line over the left lane line and a single, solid line over the right lane line. The lines should start from the bottom of the image and extend out to the top of the region of interest.**"
   ]
  },
  {
   "cell_type": "markdown",
   "metadata": {},
   "source": [
    "Now for the one with the solid yellow lane on the left. This one's more tricky!"
   ]
  },
  {
   "cell_type": "code",
   "execution_count": null,
   "metadata": {},
   "outputs": [],
   "source": [
    "marker_history = []\n",
    "yellow_output = 'test_videos_output/solidYellowLeft.mp4'\n",
    "## To speed up the testing process you may want to try your pipeline on a shorter subclip of the video\n",
    "## To do so add .subclip(start_second,end_second) to the end of the line below\n",
    "## Where start_second and end_second are integer values representing the start and end of the subclip\n",
    "## You may also uncomment the following line for a subclip of the first 5 seconds\n",
    "##clip2 = VideoFileClip('test_videos/solidYellowLeft.mp4').subclip(0,5)\n",
    "clip2 = VideoFileClip('test_videos/solidYellowLeft.mp4')\n",
    "yellow_clip = clip2.fl_image(process_image)\n",
    "%time yellow_clip.write_videofile(yellow_output, audio=False)"
   ]
  },
  {
   "cell_type": "code",
   "execution_count": null,
   "metadata": {},
   "outputs": [],
   "source": [
    "HTML(\"\"\"\n",
    "<video width=\"960\" height=\"540\" controls>\n",
    "  <source src=\"{0}\">\n",
    "</video>\n",
    "\"\"\".format(yellow_output))"
   ]
  },
  {
   "cell_type": "markdown",
   "metadata": {},
   "source": [
    "## Writeup and Submission\n",
    "\n",
    "If you're satisfied with your video outputs, it's time to make the report writeup in a pdf or markdown file. Once you have this Ipython notebook ready along with the writeup, it's time to submit for review! Here is a [link](https://github.com/udacity/CarND-LaneLines-P1/blob/master/writeup_template.md) to the writeup template file.\n"
   ]
  },
  {
   "cell_type": "markdown",
   "metadata": {
    "collapsed": true
   },
   "source": [
    "## Optional Challenge\n",
    "\n",
    "Try your lane finding pipeline on the video below.  Does it still work?  Can you figure out a way to make it more robust?  If you're up for the challenge, modify your pipeline so it works with this video and submit it along with the rest of your project!"
   ]
  },
  {
   "cell_type": "code",
   "execution_count": null,
   "metadata": {
    "scrolled": false
   },
   "outputs": [],
   "source": [
    "marker_history = []\n",
    "challenge_output = 'test_videos_output/challenge.mp4'\n",
    "## To speed up the testing process you may want to try your pipeline on a shorter subclip of the video\n",
    "## To do so add .subclip(start_second,end_second) to the end of the line below\n",
    "## Where start_second and end_second are integer values representing the start and end of the subclip\n",
    "## You may also uncomment the following line for a subclip of the first 5 seconds\n",
    "##clip3 = VideoFileClip('test_videos/challenge.mp4').subclip(0,5)\n",
    "clip3 = VideoFileClip('test_videos/challenge.mp4')\n",
    "challenge_clip = clip3.fl_image(process_image).subclip(0, 3)\n",
    "%time challenge_clip.write_videofile(challenge_output, audio=False)"
   ]
  },
  {
   "cell_type": "code",
   "execution_count": null,
   "metadata": {},
   "outputs": [],
   "source": [
    "HTML(\"\"\"\n",
    "<video width=\"960\" height=\"540\" controls>\n",
    "  <source src=\"{0}\">\n",
    "</video>\n",
    "\"\"\".format(challenge_output))"
   ]
  },
  {
   "cell_type": "code",
   "execution_count": null,
   "metadata": {
    "collapsed": true
   },
   "outputs": [],
   "source": []
  }
 ],
 "metadata": {
  "anaconda-cloud": {},
  "kernelspec": {
   "display_name": "Python 3",
   "language": "python",
   "name": "python3"
  },
  "language_info": {
   "codemirror_mode": {
    "name": "ipython",
    "version": 3
   },
   "file_extension": ".py",
   "mimetype": "text/x-python",
   "name": "python",
   "nbconvert_exporter": "python",
   "pygments_lexer": "ipython3",
   "version": "3.5.3"
  },
  "widgets": {
   "state": {
    "9804889b16e449c8be44b67ea94cd096": {
     "views": [
      {
       "cell_index": 20
      }
     ]
    }
   },
   "version": "1.2.0"
  }
 },
 "nbformat": 4,
 "nbformat_minor": 1
}
